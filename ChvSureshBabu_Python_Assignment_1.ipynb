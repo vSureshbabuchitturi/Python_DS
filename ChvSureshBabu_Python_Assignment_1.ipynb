{
  "cells": [
    {
      "cell_type": "markdown",
      "metadata": {
        "id": "view-in-github",
        "colab_type": "text"
      },
      "source": [
        "<a href=\"https://colab.research.google.com/github/vSureshbabuchitturi/Python_DS/blob/main/ChvSureshBabu_Python_Assignment_1.ipynb\" target=\"_parent\"><img src=\"https://colab.research.google.com/assets/colab-badge.svg\" alt=\"Open In Colab\"/></a>"
      ]
    },
    {
      "cell_type": "markdown",
      "id": "3bfda365",
      "metadata": {
        "id": "3bfda365"
      },
      "source": [
        "##  kindly perform coding in the blank cells provided below the questions. Once completed, please share this python file for review."
      ]
    },
    {
      "cell_type": "markdown",
      "id": "ec9963f1",
      "metadata": {
        "id": "ec9963f1"
      },
      "source": [
        "### 1.Create two numbers. One float another integer. Add two numbers and print the result in           integer format."
      ]
    },
    {
      "cell_type": "code",
      "execution_count": 1,
      "id": "ad684120",
      "metadata": {
        "colab": {
          "base_uri": "https://localhost:8080/"
        },
        "id": "ad684120",
        "outputId": "9c8e79b8-d749-4412-f71c-3f186ccfddb4"
      },
      "outputs": [
        {
          "output_type": "stream",
          "name": "stdout",
          "text": [
            "<class 'int'>\n",
            "<class 'float'>\n",
            "sum of given number :10,10.5 and result as integer is :20\n"
          ]
        }
      ],
      "source": [
        "#Declare 2 Variable Int & float with values which can define type\n",
        "a=10\n",
        "b=10.5\n",
        "\n",
        "# Type Checking\n",
        "print(type(a))\n",
        "print(type(b))\n",
        "\n",
        "#adding number and converting result to integer\n",
        "print(f\"sum of given number :{a},{b} and result as integer is :{int(a+b)}\")"
      ]
    },
    {
      "cell_type": "markdown",
      "id": "7705353c",
      "metadata": {
        "id": "7705353c"
      },
      "source": [
        "### 2. Create a list with numbers 1 to 10 and sort it in ascending and descending order."
      ]
    },
    {
      "cell_type": "code",
      "execution_count": 2,
      "id": "e794416a",
      "metadata": {
        "colab": {
          "base_uri": "https://localhost:8080/"
        },
        "id": "e794416a",
        "outputId": "15145822-1f81-4a47-f50d-d2922c31626c"
      },
      "outputs": [
        {
          "output_type": "stream",
          "name": "stdout",
          "text": [
            "Ascending: [1, 2, 3, 4, 5, 6, 7, 8, 9, 10]\n",
            "Descending: [10, 9, 8, 7, 6, 5, 4, 3, 2, 1]\n"
          ]
        }
      ],
      "source": [
        "# Example list\n",
        "numbers = [1,2,3,4,5,6,7,8,9,10]\n",
        "\n",
        "# Sort in ascending order\n",
        "numbers.sort()\n",
        "print(\"Ascending:\", numbers)\n",
        "\n",
        "# Sort in descending order\n",
        "numbers.sort(reverse=True)\n",
        "print(\"Descending:\", numbers)"
      ]
    },
    {
      "cell_type": "markdown",
      "id": "be875a01",
      "metadata": {
        "id": "be875a01"
      },
      "source": [
        "### 3.\tCreate a list with numbers 1 to 10 in it ([1,2,3….10]) Write a for loop on this list to sum up all numbers in the list except 5 and 7. Print the result."
      ]
    },
    {
      "cell_type": "markdown",
      "id": "f24ed5ae",
      "metadata": {
        "id": "f24ed5ae"
      },
      "source": [
        "Ensure to include a descriptive text in the print statement to provide context for the displayed output, aiding in understanding the results"
      ]
    },
    {
      "cell_type": "markdown",
      "id": "e65bf524",
      "metadata": {
        "id": "e65bf524"
      },
      "source": [
        "Example : print('sum of all numbers in the list except 5 and 7:', result)"
      ]
    },
    {
      "cell_type": "code",
      "execution_count": 3,
      "id": "973e7f9b",
      "metadata": {
        "colab": {
          "base_uri": "https://localhost:8080/"
        },
        "id": "973e7f9b",
        "outputId": "3e180b9f-1510-4c3a-914f-c4d7f2d7b100"
      },
      "outputs": [
        {
          "output_type": "stream",
          "name": "stdout",
          "text": [
            "Sum of all numberd in given list except 5,7:43\n"
          ]
        }
      ],
      "source": [
        "# Create the list with numbers from 1 to 10\n",
        "numbers = list(range(1, 11))\n",
        "# Initialize the sum variable\n",
        "sum_numbers=0\n",
        "# Loop through the list and sum up all numbers except 5 and 7\n",
        "for i in numbers:\n",
        "    if i != 5 and i != 7:\n",
        "        sum_numbers +=i\n",
        "#result print\n",
        "print(f\"Sum of all numberd in given list except 5,7:{sum_numbers}\")"
      ]
    },
    {
      "cell_type": "markdown",
      "id": "a720413b",
      "metadata": {
        "id": "a720413b"
      },
      "source": [
        "### 4. Write a while loop to create a list with numbers from 1 to 100. When inserting new number in the list, skip every number which is divisible by 3.  Print the result. Tip: To check whether number is divisible by 3 you can use % operator"
      ]
    },
    {
      "cell_type": "code",
      "execution_count": null,
      "id": "40c5435c",
      "metadata": {
        "id": "40c5435c",
        "outputId": "de97268d-fcd4-4975-d600-63f844b66149"
      },
      "outputs": [
        {
          "name": "stdout",
          "output_type": "stream",
          "text": [
            "The result shows 1 to 100 but skip numbers divisble by 3: [1, 2, 4, 5, 7, 8, 10, 11, 13, 14, 16, 17, 19, 20, 22, 23, 25, 26, 28, 29, 31, 32, 34, 35, 37, 38, 40, 41, 43, 44, 46, 47, 49, 50, 52, 53, 55, 56, 58, 59, 61, 62, 64, 65, 67, 68, 70, 71, 73, 74, 76, 77, 79, 80, 82, 83, 85, 86, 88, 89, 91, 92, 94, 95, 97, 98, 100]\n"
          ]
        }
      ],
      "source": [
        "#Define empty list\n",
        "list1=[]\n",
        "#define variable to check start and end\n",
        "i=1\n",
        "#while loop to run till equal to 100\n",
        "while i<=100:\n",
        "#Avoid the number divisable by 3\n",
        "    if i%3!=0:\n",
        "# If not divisible by 3, add it to the list\n",
        "        list1.append(i)\n",
        "#Increment the Current varaible counter\n",
        "    i+=1\n",
        "#print Result\n",
        "print(f\"The result shows 1 to 100 but skip numbers divisble by 3: {list1}\")"
      ]
    },
    {
      "cell_type": "markdown",
      "id": "5a17725a",
      "metadata": {
        "id": "5a17725a"
      },
      "source": [
        "### 5.Create a dictionary with 5 key pair values. Key would be a grocery item name and value will be its price (any value in the range of 100 to 1000). (take any grocery items) Write a for loop to iterate over a dictionary and print key-value pairs. While printing if the value is greater Rs. 500 then print a line – “this is a costly item.”\n"
      ]
    },
    {
      "cell_type": "code",
      "execution_count": null,
      "id": "076f9781",
      "metadata": {
        "id": "076f9781",
        "outputId": "52f88ddf-f636-4a8a-fcca-80a31aedf2cc"
      },
      "outputs": [
        {
          "name": "stdout",
          "output_type": "stream",
          "text": [
            "Soap 101\n",
            "Facecream 200\n",
            "icecream 501\n",
            "this is a costly Item\n",
            "shampoo 600\n",
            "this is a costly Item\n",
            "atta 250\n"
          ]
        }
      ],
      "source": [
        "#create a dictinary\n",
        "grocery={'Soap':101,'Facecream':200,'icecream':501,'shampoo':600,'atta':250}\n",
        "#Iterate over the dictionary and print key-value pairs\n",
        "for i,p in grocery.items():\n",
        "    print(i,p)\n",
        "#Condition to check price >500 and print as costly item\n",
        "    if p>500:\n",
        "        print(\"this is a costly Item\")\n",
        ""
      ]
    },
    {
      "cell_type": "markdown",
      "id": "87dbec38",
      "metadata": {
        "id": "87dbec38"
      },
      "source": [
        "### 6. In the dictionary created in Task 3 delete the key value pairs where price is less than average price of all the items in the dictionary."
      ]
    },
    {
      "cell_type": "code",
      "execution_count": null,
      "id": "3299e895",
      "metadata": {
        "id": "3299e895",
        "outputId": "fbfd643c-40ff-4363-cee0-03bcb709052e"
      },
      "outputs": [
        {
          "name": "stdout",
          "output_type": "stream",
          "text": [
            "items to remove as below average rate:['Soap', 'Facecream', 'atta']\n",
            "Update dictonary:{'icecream': 501, 'shampoo': 600}\n"
          ]
        }
      ],
      "source": [
        "#create a dictinary\n",
        "grocery={'Soap':101,'Facecream':200,'icecream':501,'shampoo':600,'atta':250}\n",
        "#calculate sum and length for average calc\n",
        "gsum=sum(grocery.values())\n",
        "glen=len(grocery)\n",
        "gavg=gsum/glen\n",
        "#print(gsum)\n",
        "#print(glen)\n",
        "#print(gavg)\n",
        "#creating list for items to be removed and load into that\n",
        "below_avg_grocery=[i for i,p in grocery.items()  if p<gavg]\n",
        "\n",
        "print(f\"items to remove as below average rate:{below_avg_grocery}\")\n",
        "\n",
        "\n",
        "#Remove the key values pair by removing keys from list identified\n",
        "for i in below_avg_grocery:\n",
        "    del grocery[i]\n",
        "\n",
        "print(f\"Update dictonary:{grocery}\")\n",
        "\n",
        "\n"
      ]
    },
    {
      "cell_type": "markdown",
      "id": "5cdfd006",
      "metadata": {
        "id": "5cdfd006"
      },
      "source": [
        "### 7. Create a function which takes 2 numbers as inputs and returns the following three values. Addition of two numbers. Subtraction of two numbers. Multiplication of two numbers"
      ]
    },
    {
      "cell_type": "code",
      "execution_count": null,
      "id": "e7a652ec",
      "metadata": {
        "id": "e7a652ec",
        "outputId": "fa406f7e-7147-4d06-fd1f-662980e08346"
      },
      "outputs": [
        {
          "data": {
            "text/plain": [
              "'sum of numbers:70 Subtraction of numbers:10 Multiplication of numbers :1200'"
            ]
          },
          "execution_count": 7,
          "metadata": {},
          "output_type": "execute_result"
        }
      ],
      "source": [
        "#function with 2 inputs as position variables with default values\n",
        "def two_number(num1=10,num2=20):\n",
        "#sum\n",
        "    sum_number=num1+num2\n",
        "#subtarct\n",
        "    sub_numbers=num1-num2\n",
        "#multiplication\n",
        "    muly_numbers=num1*num2\n",
        "#returns all above values when fuction is called\n",
        "    return (f\"sum of numbers:{sum_number} Subtraction of numbers:{sub_numbers} Multiplication of numbers :{muly_numbers}\")\n",
        "#calling a function with run time values as i/p\n",
        "two_number(40,30)"
      ]
    },
    {
      "cell_type": "markdown",
      "id": "1a21eaa1",
      "metadata": {
        "id": "1a21eaa1"
      },
      "source": [
        "## 8.\t“i live in india since my childhood”. Count number of i in this text"
      ]
    },
    {
      "cell_type": "code",
      "execution_count": null,
      "id": "6823e4cf",
      "metadata": {
        "id": "6823e4cf",
        "outputId": "a4e5aa0b-99e9-4a97-a90a-ccb1d9a4c492"
      },
      "outputs": [
        {
          "name": "stdout",
          "output_type": "stream",
          "text": [
            "The number of i's in given string:7\n"
          ]
        }
      ],
      "source": [
        "#i/p Srting\n",
        "input_string='i live in india since my childhood'\n",
        "string_lentgh=len(input_string)\n",
        "#print(string_lentgh)\n",
        "#using the count function of string\n",
        "count_i=input_string.count('i')\n",
        "#print the result\n",
        "print(f\"The number of i's in given string:{count_i}\")\n",
        "\n",
        "\n",
        "\n"
      ]
    },
    {
      "cell_type": "markdown",
      "id": "a9a6e6e5",
      "metadata": {
        "id": "a9a6e6e5"
      },
      "source": [
        "### 9.\tdata = [1,2,3,4,6,7,7,8,9,9]. Drop duplicate values from this list and print the remaining numbers."
      ]
    },
    {
      "cell_type": "code",
      "execution_count": null,
      "id": "46883403",
      "metadata": {
        "id": "46883403",
        "outputId": "5938fabf-c2bd-4312-a5ab-1b5377ede636"
      },
      "outputs": [
        {
          "name": "stdout",
          "output_type": "stream",
          "text": [
            "Original data list:[1, 2, 3, 4, 6, 7, 7, 8, 9, 9]\n",
            "Updated data list:[1, 2, 3, 4, 6, 7, 8, 9]\n"
          ]
        }
      ],
      "source": [
        "#List data\n",
        "data = [1,2,3,4,6,7,7,8,9,9]\n",
        "print(f\"Original data list:{data}\")\n",
        "#converting into set drop duplicate values\n",
        "data1=set(data)\n",
        "#print(data1)\n",
        "#convert back to list\n",
        "data=list(data1)\n",
        "print(f\"Updated data list:{data}\")\n"
      ]
    },
    {
      "cell_type": "markdown",
      "id": "7fbf51ae",
      "metadata": {
        "id": "7fbf51ae"
      },
      "source": [
        "### 10.\tIf you are given two lists create a dictionary from it. keys_list = [1,2,3,4] values_list = [‘ind’, ‘aus’, ‘eng’ , ‘pak’]"
      ]
    },
    {
      "cell_type": "code",
      "execution_count": null,
      "id": "41ce5361",
      "metadata": {
        "id": "41ce5361",
        "outputId": "5e2c172c-20d5-4bde-c11c-30986bb042c1"
      },
      "outputs": [
        {
          "name": "stdout",
          "output_type": "stream",
          "text": [
            "New dictonary from 2 given list:{1: 'ind', 2: 'aus', 3: 'eng', 4: 'pak'}\n"
          ]
        }
      ],
      "source": [
        "#given data lists\n",
        "keys_list = [1,2,3,4]\n",
        "values_list = ['ind', 'aus', 'eng' , 'pak']\n",
        "#using dict type function and zip we can gules to lists as key values pair\n",
        "new_dict=dict(zip(keys_list,values_list))\n",
        "print(f\"New dictonary from 2 given list:{new_dict}\")"
      ]
    },
    {
      "cell_type": "code",
      "execution_count": null,
      "id": "b1f70598",
      "metadata": {
        "id": "b1f70598"
      },
      "outputs": [],
      "source": []
    },
    {
      "cell_type": "markdown",
      "id": "f0845ed0",
      "metadata": {
        "id": "f0845ed0"
      },
      "source": [
        "### 11.\tHow do you check if a variable is of a certain data type in Python?"
      ]
    },
    {
      "cell_type": "code",
      "execution_count": null,
      "id": "fd5caa32",
      "metadata": {
        "id": "fd5caa32",
        "outputId": "15595a75-f754-4e1b-b72a-76a01a9f4967"
      },
      "outputs": [
        {
          "name": "stdout",
          "output_type": "stream",
          "text": [
            "<class 'int'>\n",
            "<class 'float'>\n",
            "<class 'str'>\n",
            "<class 'list'>\n",
            "<class 'tuple'>\n",
            "<class 'set'>\n",
            "Duplicate values are ignored in set:{1, 2, 3}\n",
            "<class 'dict'>\n",
            "Duplicate Key values are overwritten with last values in Dict:{1: 'ind', 2: 'aus', 3: 'ban', 4: 'pak'}\n"
          ]
        }
      ],
      "source": [
        "#using type function\n",
        "a=10\n",
        "b=2.5\n",
        "c='India'\n",
        "d=[1,2,'abc',[123,234]]\n",
        "e=(1,2,[1,2],3,4)\n",
        "f={1,2,3,1,2}\n",
        "g={1:'ind',2:'aus',3:'nz',4:'pak',3:'ban'}\n",
        "\n",
        "print(type(a))\n",
        "print(type(b))\n",
        "print(type(c))\n",
        "print(type(d))\n",
        "print(type(e))\n",
        "print(type(f))\n",
        "print(f\"Duplicate values are ignored in set:{f}\")\n",
        "print(type(g))\n",
        "print(f\"Duplicate Key values are overwritten with last values in Dict:{g}\")\n",
        "\n",
        "\n",
        "\n",
        "\n",
        "\n"
      ]
    },
    {
      "cell_type": "markdown",
      "id": "fa2b25e7",
      "metadata": {
        "id": "fa2b25e7"
      },
      "source": [
        "### 12.\tWrite a program that prints the first 10 natural numbers.\n"
      ]
    },
    {
      "cell_type": "code",
      "execution_count": null,
      "id": "7ee95132",
      "metadata": {
        "id": "7ee95132",
        "outputId": "90102d0c-58b4-4583-ed73-6aa88e8d9e4a"
      },
      "outputs": [
        {
          "name": "stdout",
          "output_type": "stream",
          "text": [
            "1\n",
            "2\n",
            "3\n",
            "4\n",
            "5\n",
            "6\n",
            "7\n",
            "8\n",
            "9\n",
            "10\n"
          ]
        }
      ],
      "source": [
        "#using for and range\n",
        "for n in range(1, 11):\n",
        "\n",
        "# Print the list\n",
        "    print(n)"
      ]
    },
    {
      "cell_type": "markdown",
      "id": "b600cd8f",
      "metadata": {
        "id": "b600cd8f"
      },
      "source": [
        "### 13.\tWrite a python code to find last 4 characters of a string : 'Machine Learning'"
      ]
    },
    {
      "cell_type": "code",
      "execution_count": null,
      "id": "be277bb5",
      "metadata": {
        "id": "be277bb5",
        "outputId": "1e81e40d-780f-4cae-ec86-a5af8814977e"
      },
      "outputs": [
        {
          "name": "stdout",
          "output_type": "stream",
          "text": [
            "Last four charters of given string:NING\n"
          ]
        }
      ],
      "source": [
        "#given String\n",
        "st= 'Machine Learning'\n",
        "#using negative index -4 is to -1 (incluing -1)\n",
        "last4=st[-4:]\n",
        "print(f\"Last four charters of given string:{last4.upper()}\")"
      ]
    },
    {
      "cell_type": "markdown",
      "id": "b55e7fbf",
      "metadata": {
        "id": "b55e7fbf"
      },
      "source": [
        "### 14.\tWrite a python code to remove blank space from string : 'P y t h o n'\n"
      ]
    },
    {
      "cell_type": "code",
      "execution_count": null,
      "id": "244f61e5",
      "metadata": {
        "id": "244f61e5",
        "outputId": "4a96a08f-3645-478e-ed33-ca6427b57360"
      },
      "outputs": [
        {
          "name": "stdout",
          "output_type": "stream",
          "text": [
            "Python\n"
          ]
        }
      ],
      "source": [
        "#given String\n",
        "st= 'P y t h o n'\n",
        "#replace spaces in between\n",
        "print(st.replace(\" \",\"\"))"
      ]
    },
    {
      "cell_type": "markdown",
      "id": "efd474ee",
      "metadata": {
        "id": "efd474ee"
      },
      "source": [
        "### 15.Write a python code to remove trailing space from string: ‘Machine Learning.            ’"
      ]
    },
    {
      "cell_type": "code",
      "execution_count": null,
      "id": "9f81dcb1",
      "metadata": {
        "id": "9f81dcb1",
        "outputId": "bec6298f-70f3-4588-bfee-9948e552753f"
      },
      "outputs": [
        {
          "name": "stdout",
          "output_type": "stream",
          "text": [
            "Machine Learning.\n"
          ]
        }
      ],
      "source": [
        "#given String\n",
        "st= 'Machine Learning. '\n",
        "#strip function kills spaces in begnning and ending\n",
        "print(st.strip())"
      ]
    },
    {
      "cell_type": "markdown",
      "id": "e2e04560",
      "metadata": {
        "id": "e2e04560"
      },
      "source": [
        "### 16.Write a python code to print the summation of all the numbers from 1 to 100"
      ]
    },
    {
      "cell_type": "code",
      "execution_count": null,
      "id": "314747bd",
      "metadata": {
        "id": "314747bd",
        "outputId": "ffd32c75-29b0-4245-84f3-65bceac189a8"
      },
      "outputs": [
        {
          "name": "stdout",
          "output_type": "stream",
          "text": [
            "using loop sum of 1 to 100: 5050\n",
            "using while sum of 1 to 100: 5050\n",
            "using sum function sum of 1 to 100: 5050\n"
          ]
        }
      ],
      "source": [
        "#using for loop\n",
        "sum_range=0\n",
        "for i in range(1,101):\n",
        "    sum_range+=i\n",
        "print(f\"using loop sum of 1 to 100: {sum_range}\")\n",
        "#using while\n",
        "sum_while=0\n",
        "i=1\n",
        "while i<=100:\n",
        "    sum_while+=i\n",
        "    i+=1\n",
        "print(f\"using while sum of 1 to 100: {sum_while}\")\n",
        "\n",
        "#sum function\n",
        "total_sum=sum(range(1,101))\n",
        "print(f\"using sum function sum of 1 to 100: {total_sum}\")\n",
        "\n",
        "\n",
        ""
      ]
    },
    {
      "cell_type": "markdown",
      "id": "9f188bd6",
      "metadata": {
        "id": "9f188bd6"
      },
      "source": [
        "### 17.Write a python code to find the second largest number in a list: [21,44,767,98,37,106,345,87]"
      ]
    },
    {
      "cell_type": "code",
      "execution_count": null,
      "id": "3b0fbb50",
      "metadata": {
        "id": "3b0fbb50",
        "outputId": "c9f5c0e9-bb7e-4a37-8874-6b7d304b4843"
      },
      "outputs": [
        {
          "name": "stdout",
          "output_type": "stream",
          "text": [
            "345\n"
          ]
        }
      ],
      "source": [
        "#given list\n",
        "list1=[21,44,767,98,37,106,345,87]\n",
        "#get max from list\n",
        "max_in_list=max(list1)\n",
        "#sort will reaarnge in ascending order\n",
        "list1.sort()\n",
        "#last but one will be the second largest, using negative index we can\n",
        "print(list1[-2])"
      ]
    },
    {
      "cell_type": "markdown",
      "id": "f60b93dd",
      "metadata": {
        "id": "f60b93dd"
      },
      "source": [
        "### 18. Write a python code to check given character is digit or not : 265"
      ]
    },
    {
      "cell_type": "code",
      "execution_count": null,
      "id": "2babe649",
      "metadata": {
        "id": "2babe649",
        "outputId": "ac21f99c-c953-4678-a0d2-455a503fd43d"
      },
      "outputs": [
        {
          "name": "stdout",
          "output_type": "stream",
          "text": [
            "<class 'str'>\n",
            "The Given char is digit:True\n"
          ]
        }
      ],
      "source": [
        "#given i/p\n",
        "a=\"265\"\n",
        "print(type(a))\n",
        "# is digit function give the given string is digit or not\n",
        "print(f\"The Given char is digit:{a.isdigit()}\")"
      ]
    },
    {
      "cell_type": "markdown",
      "id": "75f8df47",
      "metadata": {
        "id": "75f8df47"
      },
      "source": [
        "### 19.\tWrite a python code to Convert a string to lowercase : ‘MACHINE LEARNING’"
      ]
    },
    {
      "cell_type": "code",
      "execution_count": null,
      "id": "b2cf92ef",
      "metadata": {
        "id": "b2cf92ef",
        "outputId": "19d0896b-28dc-4de7-d89d-b5fb99862e3c"
      },
      "outputs": [
        {
          "name": "stdout",
          "output_type": "stream",
          "text": [
            "The lower case for given string : machine learning\n"
          ]
        }
      ],
      "source": [
        "#given string\n",
        "a='MACHINE LEARNING'\n",
        "# lower function will convert into upper case\n",
        "print(f\"The lower case for given string : {a.lower()}\")\n"
      ]
    },
    {
      "cell_type": "markdown",
      "id": "36ba06e1",
      "metadata": {
        "id": "36ba06e1"
      },
      "source": [
        "### 20.Write a Python program to find the common elements between two lists."
      ]
    },
    {
      "cell_type": "code",
      "execution_count": null,
      "id": "0e6ebc14",
      "metadata": {
        "id": "0e6ebc14",
        "outputId": "864b6562-67ca-4b09-b529-9eaed8fdd956"
      },
      "outputs": [
        {
          "name": "stdout",
          "output_type": "stream",
          "text": [
            "commen b/w 2 list:['a', 'b']\n"
          ]
        }
      ],
      "source": [
        "#define 2 lists\n",
        "list1=[1,2,3,'a','b','c']\n",
        "list2=['a','b','de','ef','ca']\n",
        "#for loops to check in list1 is avaliable in list 2\n",
        "common_elements=[]\n",
        "for i in list1:\n",
        "    if i in list2:\n",
        "        common_elements.append(i)\n",
        "print(f\"commen b/w 2 list:{common_elements}\")\n",
        ""
      ]
    },
    {
      "cell_type": "markdown",
      "id": "fac08d5e",
      "metadata": {
        "id": "fac08d5e"
      },
      "source": [
        "### 21.Write a python function to calculate the factorial of a given integer 10"
      ]
    },
    {
      "cell_type": "code",
      "execution_count": null,
      "id": "f4653ea6",
      "metadata": {
        "id": "f4653ea6",
        "outputId": "0c3fbfdc-7d5e-4c0c-c02c-7a58323cebdf"
      },
      "outputs": [
        {
          "name": "stdout",
          "output_type": "stream",
          "text": [
            "The factorial number for 10 is :3628800\n"
          ]
        }
      ],
      "source": [
        "# Create the function\n",
        "def fact_numbers(n):\n",
        "# Initialize the  variable\n",
        "    fac_num=1\n",
        "# Loop through for mutiply\n",
        "    for i in range(1, n + 1):\n",
        "        fac_num *= i\n",
        "    return fac_num\n",
        "# define value for function\n",
        "b = 10\n",
        "#result print\n",
        "print(f\"The factorial number for {b} is :{fact_numbers(b)}\")\n",
        "\n"
      ]
    },
    {
      "cell_type": "markdown",
      "id": "a17d4b13",
      "metadata": {
        "id": "a17d4b13"
      },
      "source": [
        "### 22.Write a python code to create separate lists of Even and Odd numbers from a list. [21,44,22,878,55,90,17,68,69,91]"
      ]
    },
    {
      "cell_type": "code",
      "execution_count": null,
      "id": "b4379ee1",
      "metadata": {
        "id": "b4379ee1",
        "outputId": "c8a4e5fa-b1d8-4ff5-bcdc-bec9857a04a7"
      },
      "outputs": [
        {
          "name": "stdout",
          "output_type": "stream",
          "text": [
            "even list :[44, 22, 878, 90, 68]\n",
            "Odd list :[21, 55, 17, 69, 91]\n"
          ]
        }
      ],
      "source": [
        "#given list\n",
        "list1=[21,44,22,878,55,90,17,68,69,91]\n",
        "#define 2 empty list to capture even and odd\n",
        "odd_list=[]\n",
        "even_list=[]\n",
        "#for loop with condition to identify even else got odd\n",
        "for i in list1:\n",
        "    if i%2==0:\n",
        "        even_list.append(i)\n",
        "    else:\n",
        "        odd_list.append(i)\n",
        "#print result\n",
        "print(f\"even list :{even_list}\")\n",
        "print(f\"Odd list :{odd_list}\")\n",
        ""
      ]
    },
    {
      "cell_type": "markdown",
      "id": "657a2ba2",
      "metadata": {
        "id": "657a2ba2"
      },
      "source": [
        "### 23.Calculate the sum of all numbers in a list using a loop. [21,44,767,98,37]"
      ]
    },
    {
      "cell_type": "code",
      "execution_count": null,
      "id": "236eea59",
      "metadata": {
        "id": "236eea59",
        "outputId": "958a1f71-d3a6-44c4-d208-6f386a138e04"
      },
      "outputs": [
        {
          "name": "stdout",
          "output_type": "stream",
          "text": [
            "The sum of all numbers in the list:967\n"
          ]
        }
      ],
      "source": [
        "#given list\n",
        "list1=[21,44,767,98,37]\n",
        "#declare variable\n",
        "sum_list=0\n",
        "#for loop to sum\n",
        "for i in list1:\n",
        "    sum_list+=i\n",
        "print(f\"The sum of all numbers in the list:{sum_list}\")"
      ]
    },
    {
      "cell_type": "markdown",
      "id": "79311f33",
      "metadata": {
        "id": "79311f33"
      },
      "source": [
        "### 24.Write a python code to find square and cube of every number in a given list of integers using Lambda. list1 = [12,3,41,7,9,111]"
      ]
    },
    {
      "cell_type": "code",
      "execution_count": null,
      "id": "9396ef1b",
      "metadata": {
        "id": "9396ef1b",
        "outputId": "55a6eef9-df3c-4c48-d2ee-570d57a1a6f0"
      },
      "outputs": [
        {
          "name": "stdout",
          "output_type": "stream",
          "text": [
            "square of given list:[144, 9, 1681, 49, 81, 12321]\n",
            "cube of given list:[1728, 27, 68921, 343, 729, 1367631]\n"
          ]
        }
      ],
      "source": [
        "#given list\n",
        "list1 = [12,3,41,7,9,111]\n",
        "\n",
        "#map function to calculate cube and square\n",
        "listsquare=list(map(lambda i:i**2,list1))\n",
        "print(f\"square of given list:{listsquare}\")\n",
        "listcube=list(map(lambda i:i**3,list1))\n",
        "print(f\"cube of given list:{listcube}\")\n",
        "\n"
      ]
    },
    {
      "cell_type": "markdown",
      "id": "3c571d54",
      "metadata": {
        "id": "3c571d54"
      },
      "source": [
        "### 25.Write a python code to count the number of occurrences of a character ‘e’ in a string. ‘Machine Learning and Deep Learning’"
      ]
    },
    {
      "cell_type": "code",
      "execution_count": null,
      "id": "de406673",
      "metadata": {
        "id": "de406673",
        "outputId": "7cc7f426-bbd6-4c3c-81ba-ba75e620c846"
      },
      "outputs": [
        {
          "name": "stdout",
          "output_type": "stream",
          "text": [
            "The count of e's in given string :Machine Learning and Deep Learning is :5\n"
          ]
        }
      ],
      "source": [
        "#given string\n",
        "st='Machine Learning and Deep Learning'\n",
        "print(f\"The count of e's in given string :{st} is :{st.count('e')}\")\n"
      ]
    },
    {
      "cell_type": "markdown",
      "id": "99db2515",
      "metadata": {
        "id": "99db2515"
      },
      "source": [
        "### 26. calculate the absolute value of a number -564"
      ]
    },
    {
      "cell_type": "code",
      "execution_count": null,
      "id": "3817ca9a",
      "metadata": {
        "id": "3817ca9a",
        "outputId": "89d7c079-5ebd-4a9d-82e9-6716472c62ad"
      },
      "outputs": [
        {
          "name": "stdout",
          "output_type": "stream",
          "text": [
            "abosulte value of : -564 is :564\n"
          ]
        }
      ],
      "source": [
        "#given number\n",
        "a=-564\n",
        "print(f\"abosulte value of : {a} is :{abs(a)}\")"
      ]
    },
    {
      "cell_type": "markdown",
      "id": "65e57a62",
      "metadata": {
        "id": "65e57a62"
      },
      "source": [
        "### 27.\tWrite a python code to check if a string contains only alphabetic characters. String = ‘HelloPython’\n"
      ]
    },
    {
      "cell_type": "code",
      "execution_count": null,
      "id": "664f09d8",
      "metadata": {
        "id": "664f09d8",
        "outputId": "d8f31eef-fe5e-4291-82b9-de250fc0cd4c"
      },
      "outputs": [
        {
          "name": "stdout",
          "output_type": "stream",
          "text": [
            "True\n"
          ]
        }
      ],
      "source": [
        "#given string\n",
        "str1 = 'HelloPython'\n",
        "print(str1.isalpha())\n"
      ]
    },
    {
      "cell_type": "markdown",
      "id": "a6b81a58",
      "metadata": {
        "id": "a6b81a58"
      },
      "source": [
        "### 28.\tCreate two separate dictionaries and Merge them."
      ]
    },
    {
      "cell_type": "code",
      "execution_count": null,
      "id": "9fe66009",
      "metadata": {
        "id": "9fe66009",
        "outputId": "a4f27276-2c6b-4258-9def-747c4fd67472"
      },
      "outputs": [
        {
          "name": "stdout",
          "output_type": "stream",
          "text": [
            "{1: 'soap', 2: 'shampoo', 3: 'conditiner', 4: 'atta', 5: 'noodles', 6: 'apple'}\n"
          ]
        }
      ],
      "source": [
        "#dict\n",
        "dict1={1:'soap',2:'shampoo',3:'conditiner'}\n",
        "dict2={4:'atta',5:'noodles',6:'apple'}\n",
        "#unpacking * for list ,** for dict\n",
        "dict3={**dict1, **dict2}\n",
        "print(dict3)"
      ]
    },
    {
      "cell_type": "markdown",
      "id": "1efbbe90",
      "metadata": {
        "id": "1efbbe90"
      },
      "source": [
        "### 29.Write a python code to filter odd numbers from the list using filter () function. List1 = [12,3,41,7,9,111]"
      ]
    },
    {
      "cell_type": "code",
      "execution_count": null,
      "id": "b09646cf",
      "metadata": {
        "id": "b09646cf",
        "outputId": "9655c97a-aafa-42f9-cdd8-6e3480bcdfbe"
      },
      "outputs": [
        {
          "name": "stdout",
          "output_type": "stream",
          "text": [
            "Odd numbers: [3, 41, 7, 9, 111]\n"
          ]
        }
      ],
      "source": [
        "#given list\n",
        "List1 = [12, 3, 41, 7, 9, 111]\n",
        "\n",
        "# Use filter function to filter odd numbers\n",
        "odd_numbers = list(filter(lambda x: x % 2 != 0, List1))\n",
        "\n",
        "# Print the result\n",
        "print(f\"Odd numbers: {odd_numbers}\")"
      ]
    },
    {
      "cell_type": "markdown",
      "id": "6c03feed",
      "metadata": {
        "id": "6c03feed"
      },
      "source": [
        "### 30.Create a function that checks if a given number is even or odd."
      ]
    },
    {
      "cell_type": "code",
      "execution_count": null,
      "id": "c130ee9a",
      "metadata": {
        "id": "c130ee9a",
        "outputId": "326a6d67-5d78-4db4-dd2e-3c9cdc640889"
      },
      "outputs": [
        {
          "name": "stdout",
          "output_type": "stream",
          "text": [
            "Given number :7 is odd\n"
          ]
        }
      ],
      "source": [
        "def odd_even(a):\n",
        "    if a==0:\n",
        "        print(f\"Given number :{a} is niether even nor odd \")\n",
        "    elif a%2==0:\n",
        "        print(f\"Given number :{a} is even\")\n",
        "    else:\n",
        "        print(f\"Given number :{a} is odd\")\n",
        "odd_even(7)\n",
        "\n",
        "\n",
        ""
      ]
    },
    {
      "cell_type": "markdown",
      "id": "57e873f7",
      "metadata": {
        "id": "57e873f7"
      },
      "source": [
        "### 31.\tCreate a function to find the sum of all even numbers in a list. list1 = [ 21,44,767,98,37]"
      ]
    },
    {
      "cell_type": "code",
      "execution_count": null,
      "id": "f62249c8",
      "metadata": {
        "id": "f62249c8",
        "outputId": "5b2171ff-ee06-4518-f54c-f26f711aded9"
      },
      "outputs": [
        {
          "data": {
            "text/plain": [
              "142"
            ]
          },
          "execution_count": 31,
          "metadata": {},
          "output_type": "execute_result"
        }
      ],
      "source": [
        "list1 = [ 21,44,767,98,37]\n",
        "#function to find the sum of all even numbers in a list\n",
        "def sum_even(a):\n",
        "    sum_all=0\n",
        "    for i in a:\n",
        "        if i%2==0:\n",
        "            sum_all+=i\n",
        "    return sum_all\n",
        "sum_even(list1)\n",
        ""
      ]
    },
    {
      "cell_type": "markdown",
      "id": "47fea0e7",
      "metadata": {
        "id": "47fea0e7"
      },
      "source": [
        "### 32.Write a Python program to find the maximum and minimum values in a list. list1 = [ 21,44,767,98,37]"
      ]
    },
    {
      "cell_type": "code",
      "execution_count": null,
      "id": "348f0991",
      "metadata": {
        "id": "348f0991",
        "outputId": "fdd7d5fe-572f-4331-e2ca-71369fb31d93"
      },
      "outputs": [
        {
          "name": "stdout",
          "output_type": "stream",
          "text": [
            "Max in given list:767\n",
            "Min in given list:21\n"
          ]
        }
      ],
      "source": [
        "#given list\n",
        "list1 = [ 21,44,767,98,37]\n",
        "#use max and min functions\n",
        "print(f\"Max in given list:{max(list1)}\")\n",
        "print(f\"Min in given list:{min(list1)}\")"
      ]
    },
    {
      "cell_type": "markdown",
      "id": "b727d367",
      "metadata": {
        "id": "b727d367"
      },
      "source": [
        "### 33.\tWrite a function to remove duplicate elements from a list."
      ]
    },
    {
      "cell_type": "code",
      "execution_count": null,
      "id": "0989e52c",
      "metadata": {
        "id": "0989e52c",
        "outputId": "616d9700-8b54-4e6b-bef2-47946b2c5b45"
      },
      "outputs": [
        {
          "data": {
            "text/plain": [
              "[1, 4, 5, 6, 2]"
            ]
          },
          "execution_count": 33,
          "metadata": {},
          "output_type": "execute_result"
        }
      ],
      "source": [
        "#define list\n",
        "list1=[1,4,5,6,1,2,1,2]\n",
        "#simply converting to set will remove duplicate but changes order so will try with loop to maintain order remove next occurences\n",
        "def rem_duplicate(a):\n",
        "    empty_list=[]\n",
        "    for i in a:\n",
        "        if i not in empty_list:\n",
        "            empty_list.append(i)\n",
        "    return empty_list\n",
        "rem_duplicate(list1)\n",
        "\n",
        "#list2=[1,4,5,6,1,2,1,2]\n",
        "#list3=set(list1)\n",
        "#print(list3)\n"
      ]
    },
    {
      "cell_type": "markdown",
      "id": "8d08d5bd",
      "metadata": {
        "id": "8d08d5bd"
      },
      "source": [
        "### 34.\tCreate a Python dictionary with keys as cars and values as their respective prices.\n",
        "### car_models = [\"Toyota Camry\", \"Honda Civic\", \"Ford Mustang\", \"Chevrolet Silverado\", \"Nissan Altima\"]\n",
        "### car_prices = [2500000, 2200000, 4000000, 3500000, 2300000]\n"
      ]
    },
    {
      "cell_type": "code",
      "execution_count": null,
      "id": "16d776be",
      "metadata": {
        "id": "16d776be",
        "outputId": "5dd25552-33a8-4c54-ce80-893f9efbfca7"
      },
      "outputs": [
        {
          "name": "stdout",
          "output_type": "stream",
          "text": [
            "New dictionary:{'Toyota Camry': 2500000, 'Honda Civic': 2200000, 'Ford Mustang': 4000000, 'Chevrolet Silverado': 3500000, 'Nissan Altima': 2300000}\n"
          ]
        }
      ],
      "source": [
        "#given lists\n",
        "car_models = [\"Toyota Camry\", \"Honda Civic\", \"Ford Mustang\", \"Chevrolet Silverado\", \"Nissan Altima\"]\n",
        "car_prices = [2500000, 2200000, 4000000, 3500000, 2300000]\n",
        "\n",
        "New_dict=dict(zip(car_models,car_prices))\n",
        "print(f\"New dictionary:{New_dict}\")"
      ]
    },
    {
      "cell_type": "markdown",
      "id": "313b5397",
      "metadata": {
        "id": "313b5397"
      },
      "source": [
        "### 35.\tCreate a Python function to reverse a string."
      ]
    },
    {
      "cell_type": "code",
      "execution_count": null,
      "id": "4f704dd6",
      "metadata": {
        "id": "4f704dd6",
        "outputId": "33fb6d75-8351-481b-c8ff-dff4d1b4e0de"
      },
      "outputs": [
        {
          "data": {
            "text/plain": [
              "'olleh'"
            ]
          },
          "execution_count": 35,
          "metadata": {},
          "output_type": "execute_result"
        }
      ],
      "source": [
        "def reverse_str(a):\n",
        "    rvr_str=\"\"\n",
        "    n=len(a)\n",
        "#this is using slicing funtion\n",
        "    #rvr_str=a[::-1]\n",
        "#using for loop and adding each letter to start of other empty string\n",
        "    for i in a:\n",
        "        rvr_str=i+rvr_str\n",
        "    return rvr_str\n",
        "\n",
        "reverse_str(\"hello\")\n",
        "\n"
      ]
    },
    {
      "cell_type": "markdown",
      "id": "4dc413a3",
      "metadata": {
        "id": "4dc413a3"
      },
      "source": [
        "### 36.\tCalculate the mean of a list of numbers. [ 21,44,767,98,37]"
      ]
    },
    {
      "cell_type": "code",
      "execution_count": null,
      "id": "dd622822",
      "metadata": {
        "id": "dd622822",
        "outputId": "1785aa68-4f43-4f14-debb-39a0c27caa08"
      },
      "outputs": [
        {
          "name": "stdout",
          "output_type": "stream",
          "text": [
            "Mean of the given:[21, 44, 767, 98, 37] if 193.4\n"
          ]
        }
      ],
      "source": [
        "#given list\n",
        "list1=[ 21,44,767,98,37]\n",
        "#mean is sum of all numbers by count of numbers\n",
        "n=len(list1)\n",
        "list_sum=sum(list1)\n",
        "mean=list_sum/n\n",
        "print(f\"Mean of the given:{list1} if {mean}\")"
      ]
    },
    {
      "cell_type": "markdown",
      "id": "7fe6735c",
      "metadata": {
        "id": "7fe6735c"
      },
      "source": [
        "### 37.\tWrite a python code to check if a number is positive, negative, or zero."
      ]
    },
    {
      "cell_type": "code",
      "execution_count": null,
      "id": "0c8a9cbc",
      "metadata": {
        "id": "0c8a9cbc",
        "outputId": "5a016cd9-b05b-4d78-ed3d-55d6a24becf7"
      },
      "outputs": [
        {
          "name": "stdout",
          "output_type": "stream",
          "text": [
            "Zero\n"
          ]
        }
      ],
      "source": [
        "def numbers_fun(a):\n",
        "    if a==0:\n",
        "        print(f\"Zero\")\n",
        "    elif a>0:\n",
        "        print(\"positive\")\n",
        "    else:\n",
        "        print(\"negative\")\n",
        "numbers_fun(0)\n",
        "\n",
        ""
      ]
    },
    {
      "cell_type": "markdown",
      "id": "d5f71c91",
      "metadata": {
        "id": "d5f71c91"
      },
      "source": [
        "### 38.\tFind the length of the longest word in a string: ‘Data Science and Machine Learning’"
      ]
    },
    {
      "cell_type": "markdown",
      "id": "6ca3c6cd",
      "metadata": {
        "id": "6ca3c6cd"
      },
      "source": [
        "You have to Find the length of the longest word in a string"
      ]
    },
    {
      "cell_type": "code",
      "execution_count": null,
      "id": "35f75762",
      "metadata": {
        "id": "35f75762",
        "outputId": "87232e4d-6182-43ee-f66d-7369e3b0de50"
      },
      "outputs": [
        {
          "name": "stdout",
          "output_type": "stream",
          "text": [
            "The length of the longest word in given string is :8\n"
          ]
        }
      ],
      "source": [
        "#Split function splits based on whit space\n",
        "str1=\"Data Science and Machine Learning\"\n",
        "words = str1.split()\n",
        "# Initialize variables to store the longest word and its length\n",
        "longest_word = \"\"\n",
        "max_length = 0\n",
        "\n",
        "# Iterate through the words to find the longest one in last occurence if same length occurs more than once\n",
        "for i in words:\n",
        "    if len(i) >= max_length:\n",
        "        longest_word = i\n",
        "        max_length = len(i)\n",
        "\n",
        "print(f\"The length of the longest word in given string is :{len(longest_word)}\")\n",
        "\n"
      ]
    },
    {
      "cell_type": "code",
      "execution_count": null,
      "id": "2ec39902",
      "metadata": {
        "id": "2ec39902",
        "outputId": "26310410-b15e-4f4d-8036-daf3b456f8a7"
      },
      "outputs": [
        {
          "name": "stderr",
          "output_type": "stream",
          "text": [
            "IOPub data rate exceeded.\n",
            "The notebook server will temporarily stop sending output\n",
            "to the client in order to avoid crashing it.\n",
            "To change this limit, set the config variable\n",
            "`--NotebookApp.iopub_data_rate_limit`.\n",
            "\n",
            "Current values:\n",
            "NotebookApp.iopub_data_rate_limit=1000000.0 (bytes/sec)\n",
            "NotebookApp.rate_limit_window=3.0 (secs)\n",
            "\n"
          ]
        }
      ],
      "source": [
        "import pandas as pd\n",
        "help(pd)"
      ]
    },
    {
      "cell_type": "code",
      "execution_count": null,
      "id": "27be3d06",
      "metadata": {
        "id": "27be3d06"
      },
      "outputs": [],
      "source": []
    }
  ],
  "metadata": {
    "kernelspec": {
      "display_name": "Python 3 (ipykernel)",
      "language": "python",
      "name": "python3"
    },
    "language_info": {
      "codemirror_mode": {
        "name": "ipython",
        "version": 3
      },
      "file_extension": ".py",
      "mimetype": "text/x-python",
      "name": "python",
      "nbconvert_exporter": "python",
      "pygments_lexer": "ipython3",
      "version": "3.11.7"
    },
    "colab": {
      "provenance": [],
      "include_colab_link": true
    }
  },
  "nbformat": 4,
  "nbformat_minor": 5
}